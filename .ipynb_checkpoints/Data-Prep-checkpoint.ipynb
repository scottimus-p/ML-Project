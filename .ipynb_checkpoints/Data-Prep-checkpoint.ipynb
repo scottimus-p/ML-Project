{
 "cells": [
  {
   "cell_type": "code",
   "execution_count": 12,
   "id": "9347951a-1392-4c3c-a08c-badca0c5781c",
   "metadata": {},
   "outputs": [],
   "source": [
    "import json\n",
    "import torch"
   ]
  },
  {
   "cell_type": "code",
   "execution_count": 23,
   "id": "6429b265-7f78-4728-9bd3-da0915093c62",
   "metadata": {},
   "outputs": [
    {
     "name": "stdout",
     "output_type": "stream",
     "text": [
      "Data shape: torch.Size([1200, 7])\n"
     ]
    }
   ],
   "source": [
    "scenario_path = \"D:\\\\Scenario-Generator\\\\\"\n",
    "output_path = \"D:\\\\GMIB\\\\\"\n",
    "\n",
    "def read_scenario(scn_path, scenario_num):\n",
    "    scn_path = f'{scn_path}\\scenario_{scenario_num}.json'\n",
    "    with open(scn_path, 'r') as file:\n",
    "        data = json.load(file)\n",
    "    USDiversified = data['equities']['USDiversified']\n",
    "    International = data['equities']['International']\n",
    "    Intermediate = data['equities']['Intermediate']\n",
    "    Aggressive = data['equities']['Aggressive']\n",
    "    MoneyMkt = data['equities']['MoneyMkt']\n",
    "    MedGovt = data['equities']['MedGovt']\n",
    "    LongCorp = data['equities']['LongCorp']\n",
    "\n",
    "    reformatted_data = list(zip(USDiversified, International, Intermediate, Aggressive, MoneyMkt, MedGovt, LongCorp))\n",
    "    return torch.as_tensor(reformatted_data)\n",
    "    \n",
    "    \n",
    "scenario_lower_bound = 1\n",
    "scenario_upper_bound = 10\n",
    "data_all_scenarios = {}\n",
    "for i in range(scenario_lower_bound, scenario_upper_bound):\n",
    "    tensor_this_scenario = read_scenario(scenario_path, i)\n",
    "    data_all_scenarios[i] = tensor_this_scenario\n",
    "\n",
    "print(f'Data shape: {data_all_scenarios[scenario_lower_bound].shape}')"
   ]
  },
  {
   "cell_type": "code",
   "execution_count": 18,
   "id": "bfda6510-282a-4ae6-8a1c-63c8f30cfc7f",
   "metadata": {},
   "outputs": [
    {
     "name": "stdout",
     "output_type": "stream",
     "text": [
      "device =  cuda\n"
     ]
    }
   ],
   "source": [
    "device = torch.device('cuda') if torch.cuda.is_available() else torch.device('cpu')\n",
    "print('device = ', device)"
   ]
  },
  {
   "cell_type": "code",
   "execution_count": 22,
   "id": "c092392a-51e6-4a7a-a5b2-e7540d333326",
   "metadata": {},
   "outputs": [],
   "source": [
    "# Create the network\n",
    "model = torch.nn.Transformer(d_model=8,\n",
    "                             nhead=8,\n",
    "                             num_encoder_layers=1,\n",
    "                             num_decoder_layers=1,\n",
    "                             activation=\"relu\",\n",
    "                             batch_first=True,\n",
    "                             bias=True)\n",
    "\n",
    "# Create the optimizer\n",
    "optimizer = torch.optim.Adam(model.parameters(), lr=0.001)\n",
    "\n",
    "# Create the loss\n",
    "loss = torch.nn.BCEWithLogitsLoss()\n"
   ]
  },
  {
   "cell_type": "code",
   "execution_count": null,
   "id": "22307aa9-95d6-4a22-b71a-40e4b167a51d",
   "metadata": {},
   "outputs": [],
   "source": []
  }
 ],
 "metadata": {
  "kernelspec": {
   "display_name": "Python 3 (ipykernel)",
   "language": "python",
   "name": "python3"
  },
  "language_info": {
   "codemirror_mode": {
    "name": "ipython",
    "version": 3
   },
   "file_extension": ".py",
   "mimetype": "text/x-python",
   "name": "python",
   "nbconvert_exporter": "python",
   "pygments_lexer": "ipython3",
   "version": "3.10.15"
  }
 },
 "nbformat": 4,
 "nbformat_minor": 5
}
